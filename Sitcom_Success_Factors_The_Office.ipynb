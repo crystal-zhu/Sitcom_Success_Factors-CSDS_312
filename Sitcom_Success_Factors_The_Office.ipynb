{
  "nbformat": 4,
  "nbformat_minor": 0,
  "metadata": {
    "colab": {
      "provenance": [],
      "include_colab_link": true
    },
    "kernelspec": {
      "name": "python3",
      "display_name": "Python 3"
    },
    "language_info": {
      "name": "python"
    }
  },
  "cells": [
    {
      "cell_type": "markdown",
      "metadata": {
        "id": "view-in-github",
        "colab_type": "text"
      },
      "source": [
        "<a href=\"https://colab.research.google.com/github/crystal-zhu/Sitcom_Success_Factors-CSDS_312/blob/main/Sitcom_Success_Factors_The_Office.ipynb\" target=\"_parent\"><img src=\"https://colab.research.google.com/assets/colab-badge.svg\" alt=\"Open In Colab\"/></a>"
      ]
    },
    {
      "cell_type": "code",
      "execution_count": null,
      "metadata": {
        "id": "IAup9rDJEGTQ"
      },
      "outputs": [],
      "source": [
        "import requests\n",
        "from bs4 import BeautifulSoup\n",
        "import pandas as pd\n",
        "from textblob import TextBlob\n",
        "import os.path\n",
        "import gensim\n",
        "from gensim import corpora\n",
        "from gensim.models import LsiModel\n",
        "from nltk.tokenize import RegexpTokenizer\n",
        "from nltk.corpus import stopwords\n",
        "from nltk.stem.porter import PorterStemmer\n",
        "from nltk.stem import WordNetLemmatizer\n",
        "\n",
        "from gensim.models.coherencemodel import CoherenceModel\n",
        "import matplotlib.pyplot as plt\n",
        "\n",
        "import seaborn as sb\n",
        "import numpy as np\n",
        "from textblob import TextBlob"
      ]
    },
    {
      "cell_type": "markdown",
      "source": [
        "Different from the other shows we are analyzing, we don't need to webscrape for the scripts as there is already a csv with all the dialouge. Thus, the following code will just take this csv and transform it into a dataframe for analysis."
      ],
      "metadata": {
        "id": "Xaw0GPReeNU4"
      }
    },
    {
      "cell_type": "code",
      "source": [
        "url = \"\"\n",
        "response = requests.get(url)"
      ],
      "metadata": {
        "id": "gyjJMqC9dtMe"
      },
      "execution_count": null,
      "outputs": []
    }
  ]
}